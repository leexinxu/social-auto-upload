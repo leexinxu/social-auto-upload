{
 "cells": [
  {
   "cell_type": "code",
   "execution_count": null,
   "metadata": {},
   "outputs": [],
   "source": [
    "import os\n",
    "from datetime import datetime\n",
    "import time\n",
    "import asyncio\n",
    "from pathlib import Path\n",
    "from douyin_uploader.main import douyin_setup, DouYinVideo\n",
    "import json"
   ]
  },
  {
   "cell_type": "code",
   "execution_count": null,
   "metadata": {},
   "outputs": [],
   "source": [
    "def log(message):\n",
    "    current_time = datetime.now().strftime('%Y-%m-%d %H:%M:%S')\n",
    "    print(f\"{current_time} - {message}\")"
   ]
  },
  {
   "cell_type": "code",
   "execution_count": null,
   "metadata": {},
   "outputs": [],
   "source": [
    "def find_videos(folder):\n",
    "    dir_list = []\n",
    "    for dir, _, files in os.walk(folder):\n",
    "        if 'video.mp4' in files and 'douyin.json' not in files:\n",
    "            dir_list.append(dir)\n",
    "    return dir_list"
   ]
  },
  {
   "cell_type": "code",
   "execution_count": null,
   "metadata": {},
   "outputs": [],
   "source": [
    "# 上传视频到抖音\n",
    "def upload(folder, account_file):\n",
    "    log(f\"上传视频到抖音 {folder=}\")\n",
    "\n",
    "    video_path = os.path.join(folder, 'video.mp4')\n",
    "    cover_path = os.path.join(folder, 'video.png')\n",
    "\n",
    "    # Load summary data\n",
    "    with open(os.path.join(folder, 'summary.json'), 'r', encoding='utf-8') as f:\n",
    "        summary = json.load(f)\n",
    "    summary['title'] = summary['title'].replace('视频标题：', '').strip()\n",
    "    summary['summary'] = summary['summary'].replace(\n",
    "        '视频摘要：', '').replace('视频简介：', '').strip()\n",
    "    tags = summary.get('tags', [])\n",
    "    if not isinstance(tags, list):\n",
    "        tags = []\n",
    "    title = f'【中配】{summary[\"title\"]} - {summary[\"author\"]}'\n",
    "    with open(os.path.join(folder, 'download.info.json'), 'r', encoding='utf-8') as f:\n",
    "        data = json.load(f)\n",
    "    title_English = data['title']\n",
    "    webpage_url = data['webpage_url']\n",
    "    description = f'{title_English}\\n' + summary['summary']\n",
    "\n",
    "    # 打印视频文件名、标题和 hashtag\n",
    "    print(f\"视频文件名：{video_path}\")\n",
    "    print(f\"标题：{title}\")\n",
    "    print(f\"标签：{tags}\")\n",
    "    app = DouYinVideo(title, video_path, tags, 0, account_file)\n",
    "    asyncio.run(app.main(), debug=False)\n",
    "\n",
    "    with open(os.path.join(folder, 'douyin.json'), 'w', encoding='utf-8') as f:\n",
    "        json.dump({}, f, ensure_ascii=False, indent=4)\n",
    "    return True"
   ]
  },
  {
   "cell_type": "code",
   "execution_count": null,
   "metadata": {},
   "outputs": [],
   "source": [
    "# 每分钟检查一下是否有需要上传的视频，如果有，则上传\n",
    "def check_up(src_dir, account_file):\n",
    "    log(f\"******* 启动上传到抖音脚本, 检查视频目录: {src_dir} *******\")\n",
    "    while True:\n",
    "        log(\"检查是否有视频需要上传到抖音...\")\n",
    "        up_dir_list = find_videos(src_dir)\n",
    "        log(f\"找到需要上传抖音: {len(up_dir_list)}\")\n",
    "        for up_dir in up_dir_list:\n",
    "            # 上传视频到抖音\n",
    "            upload(up_dir, account_file)\n",
    "\n",
    "            # 防止提交过快\n",
    "            log(\"防止提交过快，等待1分钟上传下一个。。。\")\n",
    "            time.sleep(60)\n",
    "\n",
    "        # 等待 60 秒再检查\n",
    "        log(\"等待60秒再检查。。。\")\n",
    "        time.sleep(60)"
   ]
  },
  {
   "cell_type": "code",
   "execution_count": null,
   "metadata": {},
   "outputs": [],
   "source": [
    "# 启动自动上传\n",
    "BASE_DIR = Path(__file__).parent.resolve()\n",
    "account_file = Path(BASE_DIR / \"douyin_uploader\" / \"account.json\")\n",
    "src_dir = '/Volumes/Data/AI/YouDub-webui/videos_20240808'\n",
    "check_up(src_dir, account_file)"
   ]
  }
 ],
 "metadata": {
  "kernelspec": {
   "display_name": "base",
   "language": "python",
   "name": "python3"
  },
  "language_info": {
   "codemirror_mode": {
    "name": "ipython",
    "version": 3
   },
   "file_extension": ".py",
   "mimetype": "text/x-python",
   "name": "python",
   "nbconvert_exporter": "python",
   "pygments_lexer": "ipython3",
   "version": "3.10.9"
  }
 },
 "nbformat": 4,
 "nbformat_minor": 2
}

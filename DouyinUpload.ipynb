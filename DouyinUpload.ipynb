{
 "cells": [
  {
   "cell_type": "code",
   "execution_count": null,
   "metadata": {},
   "outputs": [],
   "source": [
    "import os\n",
    "from datetime import datetime\n",
    "import glob\n",
    "import shutil\n",
    "import time\n",
    "import asyncio\n",
    "from pathlib import Path\n",
    "from douyin_uploader.main import douyin_setup, DouYinVideo"
   ]
  },
  {
   "cell_type": "code",
   "execution_count": null,
   "metadata": {},
   "outputs": [],
   "source": [
    "def log(message):\n",
    "    current_time = datetime.now().strftime('%Y-%m-%d %H:%M:%S')\n",
    "    print(f\"{current_time} - {message}\")"
   ]
  },
  {
   "cell_type": "code",
   "execution_count": null,
   "metadata": {},
   "outputs": [],
   "source": [
    "def find_chinese_subbed_videos(base_folder):\n",
    "    file_list = []\n",
    "    \n",
    "    # 遍历第一层文件夹\n",
    "    for root, dirs, files in os.walk(base_folder):\n",
    "        # 查找当前目录下符合模式的文件\n",
    "        for file in glob.glob(os.path.join(root, '【中配】*.mp4')):\n",
    "            file_list.append(os.path.abspath(file))\n",
    "        \n",
    "        # 遍历第二层文件夹\n",
    "        for sub_dir in dirs:\n",
    "            sub_dir_path = os.path.join(root, sub_dir)\n",
    "            for file in glob.glob(os.path.join(sub_dir_path, '【中配】*.mp4')):\n",
    "                file_list.append(os.path.abspath(file))\n",
    "        \n",
    "        # 只遍历两级，跳过子目录的子目录\n",
    "        break\n",
    "    \n",
    "    return file_list"
   ]
  },
  {
   "cell_type": "code",
   "execution_count": null,
   "metadata": {},
   "outputs": [],
   "source": [
    "def move_folder(src_folder, dst_dir):\n",
    "    try:\n",
    "        # 创建目标目录（如果不存在）\n",
    "        if not os.path.exists(dst_dir):\n",
    "            os.makedirs(dst_dir)\n",
    "        \n",
    "        # 移动文件夹\n",
    "        shutil.move(src_folder, os.path.join(dst_dir, os.path.basename(src_folder)))\n",
    "        log(f\"Moved: {src_folder} to {dst_dir}\")\n",
    "    except Exception as e:\n",
    "        log(f\"Error moving folder {src_folder}: {e}\")"
   ]
  },
  {
   "cell_type": "code",
   "execution_count": null,
   "metadata": {},
   "outputs": [],
   "source": [
    "# 上传视频到抖音\n",
    "def upload(filepath, account_file):\n",
    "    if not os.path.exists(filepath):\n",
    "        print(f'{filepath} not exists')\n",
    "        return\n",
    "\n",
    "    # 标题使用 文件名, 文件名示例：【中配】人工智能【AI】\n",
    "    title = os.path.splitext(os.path.basename(filepath))[0]\n",
    "    \n",
    "    tags = ['破浪', '科技', '未来', 'AI', 'AGI']\n",
    "\n",
    "    # 打印视频文件名、标题和 hashtag\n",
    "    print(f\"视频文件名：{filepath}\")\n",
    "    print(f\"标题：{title}\")\n",
    "    print(f\"Hashtag：{tags}\")\n",
    "    app = DouYinVideo(title, filepath, tags, 0, account_file)\n",
    "    asyncio.run(app.main(), debug=False)"
   ]
  },
  {
   "cell_type": "code",
   "execution_count": null,
   "metadata": {},
   "outputs": [],
   "source": [
    "# 每分钟检查一下是否有需要上传的视频，如果有，则上传\n",
    "def check_up(src_dir, dst_dir, account_file):\n",
    "    log(\"******* Start Auto Video Douyin Upload *******\")\n",
    "    while True:\n",
    "        log(\"Checking for new videos...\")\n",
    "        # 获取目录中两级的【中配】*.mp4文件\n",
    "        mp4_files = find_chinese_subbed_videos(src_dir)\n",
    "        log(f\"Get new videos : {len(mp4_files)}\")\n",
    "        for mp4_file in mp4_files:\n",
    "            # 上传视频到抖音\n",
    "            upload(mp4_file, account_file)\n",
    "            \n",
    "            # 上传完移动文件夹到TranslationCompletedUploadBilibiliMove\n",
    "            move_folder(os.path.dirname(mp4_file), dst_dir)\n",
    "\n",
    "            # 防止提交过快\n",
    "            log(\"Waiting for 60 seconds before next upload...\")\n",
    "            time.sleep(60)\n",
    "\n",
    "        # 等待 60 秒再检查\n",
    "        log(\"Waiting for 60 seconds before next check...\")\n",
    "        time.sleep(60)"
   ]
  },
  {
   "cell_type": "code",
   "execution_count": null,
   "metadata": {},
   "outputs": [],
   "source": [
    "# 启动自动上传\n",
    "BASE_DIR = Path(__file__).parent.resolve()\n",
    "account_file = Path(BASE_DIR / \"douyin_uploader\" / \"account.json\")\n",
    "src_dir = '/Volumes/Data/VideoTranslation/TranslationCompletedUploadBilibiliMove'\n",
    "dst_dir = '/Volumes/Data/VideoTranslation/TranslationCompletedUploadDouyinMove'\n",
    "check_up(src_dir, dst_dir, account_file)"
   ]
  }
 ],
 "metadata": {
  "kernelspec": {
   "display_name": "base",
   "language": "python",
   "name": "python3"
  },
  "language_info": {
   "codemirror_mode": {
    "name": "ipython",
    "version": 3
   },
   "file_extension": ".py",
   "mimetype": "text/x-python",
   "name": "python",
   "nbconvert_exporter": "python",
   "pygments_lexer": "ipython3",
   "version": "3.1.-1"
  }
 },
 "nbformat": 4,
 "nbformat_minor": 2
}
